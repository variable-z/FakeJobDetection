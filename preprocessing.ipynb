{
 "cells": [
  {
   "cell_type": "markdown",
   "id": "5040bba3",
   "metadata": {},
   "source": [
    "\n",
    "<h2>1. Reading the data set and doing some quick data exploration</h2>"
   ]
  },
  {
   "cell_type": "code",
   "execution_count": 17,
   "id": "e66cd73c",
   "metadata": {
    "id": "GGOX5wb_N5pr"
   },
   "outputs": [],
   "source": [
    "import pandas as pd"
   ]
  },
  {
   "cell_type": "code",
   "execution_count": 18,
   "id": "582a85f9",
   "metadata": {
    "id": "GjxyC2nqOTnH"
   },
   "outputs": [],
   "source": [
    "raw_data = pd.read_csv('Data/fake_job_postings.csv')"
   ]
  },
  {
   "cell_type": "code",
   "execution_count": 19,
   "id": "9855a425",
   "metadata": {
    "colab": {
     "base_uri": "https://localhost:8080/"
    },
    "id": "ZSIWCnxAObVG",
    "outputId": "9be5567b-eac9-4523-d952-444195802abf"
   },
   "outputs": [
    {
     "name": "stdout",
     "output_type": "stream",
     "text": [
      "<class 'pandas.core.frame.DataFrame'>\n",
      "RangeIndex: 17880 entries, 0 to 17879\n",
      "Data columns (total 18 columns):\n",
      " #   Column               Non-Null Count  Dtype \n",
      "---  ------               --------------  ----- \n",
      " 0   job_id               17880 non-null  int64 \n",
      " 1   title                17880 non-null  object\n",
      " 2   location             17534 non-null  object\n",
      " 3   department           6333 non-null   object\n",
      " 4   salary_range         2868 non-null   object\n",
      " 5   company_profile      14572 non-null  object\n",
      " 6   description          17879 non-null  object\n",
      " 7   requirements         15184 non-null  object\n",
      " 8   benefits             10668 non-null  object\n",
      " 9   telecommuting        17880 non-null  int64 \n",
      " 10  has_company_logo     17880 non-null  int64 \n",
      " 11  has_questions        17880 non-null  int64 \n",
      " 12  employment_type      14409 non-null  object\n",
      " 13  required_experience  10830 non-null  object\n",
      " 14  required_education   9775 non-null   object\n",
      " 15  industry             12977 non-null  object\n",
      " 16  function             11425 non-null  object\n",
      " 17  fraudulent           17880 non-null  int64 \n",
      "dtypes: int64(5), object(13)\n",
      "memory usage: 2.5+ MB\n"
     ]
    }
   ],
   "source": [
    "raw_data.info()"
   ]
  },
  {
   "cell_type": "code",
   "execution_count": 22,
   "id": "d9a9694f",
   "metadata": {
    "colab": {
     "base_uri": "https://localhost:8080/",
     "height": 649
    },
    "id": "xMxsmCNYO4D3",
    "outputId": "a9d4462a-835b-497f-9797-0c6f5e84bc46"
   },
   "outputs": [
    {
     "data": {
      "text/plain": [
       "job_id                     0\n",
       "title                      0\n",
       "location                 346\n",
       "department             11547\n",
       "salary_range           15012\n",
       "company_profile         3308\n",
       "description                1\n",
       "requirements            2696\n",
       "benefits                7212\n",
       "telecommuting              0\n",
       "has_company_logo           0\n",
       "has_questions              0\n",
       "employment_type         3471\n",
       "required_experience     7050\n",
       "required_education      8105\n",
       "industry                4903\n",
       "function                6455\n",
       "fraudulent                 0\n",
       "dtype: int64"
      ]
     },
     "execution_count": 22,
     "metadata": {},
     "output_type": "execute_result"
    }
   ],
   "source": [
    "raw_data.isnull().sum()"
   ]
  },
  {
   "cell_type": "markdown",
   "id": "1bc7f5f0",
   "metadata": {},
   "source": [
    "<p>Too many empty values for department and salart_range fields</p>"
   ]
  },
  {
   "cell_type": "code",
   "execution_count": 23,
   "id": "0109da67",
   "metadata": {
    "colab": {
     "base_uri": "https://localhost:8080/",
     "height": 649
    },
    "id": "7MeU6krfP650",
    "outputId": "7dbbe4ab-1583-4963-f084-9d672c339432"
   },
   "outputs": [
    {
     "data": {
      "text/plain": [
       "job_id                 17880\n",
       "title                  11231\n",
       "location                3105\n",
       "department              1337\n",
       "salary_range             874\n",
       "company_profile         1709\n",
       "description            14801\n",
       "requirements           11967\n",
       "benefits                6204\n",
       "telecommuting              2\n",
       "has_company_logo           2\n",
       "has_questions              2\n",
       "employment_type            5\n",
       "required_experience        7\n",
       "required_education        13\n",
       "industry                 131\n",
       "function                  37\n",
       "fraudulent                 2\n",
       "dtype: int64"
      ]
     },
     "execution_count": 23,
     "metadata": {},
     "output_type": "execute_result"
    }
   ],
   "source": [
    "raw_data.nunique()"
   ]
  },
  {
   "cell_type": "code",
   "execution_count": 24,
   "id": "b0bee8ac",
   "metadata": {
    "colab": {
     "base_uri": "https://localhost:8080/",
     "height": 271
    },
    "id": "jjXw898SQKYP",
    "outputId": "e4a1902d-7db0-4589-d5cd-5a7d4271f9b1"
   },
   "outputs": [
    {
     "data": {
      "text/html": [
       "<div>\n",
       "<style scoped>\n",
       "    .dataframe tbody tr th:only-of-type {\n",
       "        vertical-align: middle;\n",
       "    }\n",
       "\n",
       "    .dataframe tbody tr th {\n",
       "        vertical-align: top;\n",
       "    }\n",
       "\n",
       "    .dataframe thead th {\n",
       "        text-align: right;\n",
       "    }\n",
       "</style>\n",
       "<table border=\"1\" class=\"dataframe\">\n",
       "  <thead>\n",
       "    <tr style=\"text-align: right;\">\n",
       "      <th></th>\n",
       "      <th>job_id</th>\n",
       "      <th>title</th>\n",
       "      <th>location</th>\n",
       "      <th>department</th>\n",
       "      <th>salary_range</th>\n",
       "      <th>company_profile</th>\n",
       "      <th>description</th>\n",
       "      <th>requirements</th>\n",
       "      <th>benefits</th>\n",
       "      <th>telecommuting</th>\n",
       "      <th>has_company_logo</th>\n",
       "      <th>has_questions</th>\n",
       "      <th>employment_type</th>\n",
       "      <th>required_experience</th>\n",
       "      <th>required_education</th>\n",
       "      <th>industry</th>\n",
       "      <th>function</th>\n",
       "      <th>fraudulent</th>\n",
       "    </tr>\n",
       "  </thead>\n",
       "  <tbody>\n",
       "    <tr>\n",
       "      <th>0</th>\n",
       "      <td>1</td>\n",
       "      <td>Marketing Intern</td>\n",
       "      <td>US, NY, New York</td>\n",
       "      <td>Marketing</td>\n",
       "      <td>NaN</td>\n",
       "      <td>We're Food52, and we've created a groundbreaki...</td>\n",
       "      <td>Food52, a fast-growing, James Beard Award-winn...</td>\n",
       "      <td>Experience with content management systems a m...</td>\n",
       "      <td>NaN</td>\n",
       "      <td>0</td>\n",
       "      <td>1</td>\n",
       "      <td>0</td>\n",
       "      <td>Other</td>\n",
       "      <td>Internship</td>\n",
       "      <td>NaN</td>\n",
       "      <td>NaN</td>\n",
       "      <td>Marketing</td>\n",
       "      <td>0</td>\n",
       "    </tr>\n",
       "    <tr>\n",
       "      <th>1</th>\n",
       "      <td>2</td>\n",
       "      <td>Customer Service - Cloud Video Production</td>\n",
       "      <td>NZ, , Auckland</td>\n",
       "      <td>Success</td>\n",
       "      <td>NaN</td>\n",
       "      <td>90 Seconds, the worlds Cloud Video Production ...</td>\n",
       "      <td>Organised - Focused - Vibrant - Awesome!Do you...</td>\n",
       "      <td>What we expect from you:Your key responsibilit...</td>\n",
       "      <td>What you will get from usThrough being part of...</td>\n",
       "      <td>0</td>\n",
       "      <td>1</td>\n",
       "      <td>0</td>\n",
       "      <td>Full-time</td>\n",
       "      <td>Not Applicable</td>\n",
       "      <td>NaN</td>\n",
       "      <td>Marketing and Advertising</td>\n",
       "      <td>Customer Service</td>\n",
       "      <td>0</td>\n",
       "    </tr>\n",
       "  </tbody>\n",
       "</table>\n",
       "</div>"
      ],
      "text/plain": [
       "   job_id                                      title          location  \\\n",
       "0       1                           Marketing Intern  US, NY, New York   \n",
       "1       2  Customer Service - Cloud Video Production    NZ, , Auckland   \n",
       "\n",
       "  department salary_range                                    company_profile  \\\n",
       "0  Marketing          NaN  We're Food52, and we've created a groundbreaki...   \n",
       "1    Success          NaN  90 Seconds, the worlds Cloud Video Production ...   \n",
       "\n",
       "                                         description  \\\n",
       "0  Food52, a fast-growing, James Beard Award-winn...   \n",
       "1  Organised - Focused - Vibrant - Awesome!Do you...   \n",
       "\n",
       "                                        requirements  \\\n",
       "0  Experience with content management systems a m...   \n",
       "1  What we expect from you:Your key responsibilit...   \n",
       "\n",
       "                                            benefits  telecommuting  \\\n",
       "0                                                NaN              0   \n",
       "1  What you will get from usThrough being part of...              0   \n",
       "\n",
       "   has_company_logo  has_questions employment_type required_experience  \\\n",
       "0                 1              0           Other          Internship   \n",
       "1                 1              0       Full-time      Not Applicable   \n",
       "\n",
       "  required_education                   industry          function  fraudulent  \n",
       "0                NaN                        NaN         Marketing           0  \n",
       "1                NaN  Marketing and Advertising  Customer Service           0  "
      ]
     },
     "execution_count": 24,
     "metadata": {},
     "output_type": "execute_result"
    }
   ],
   "source": [
    "raw_data.head(2)"
   ]
  },
  {
   "cell_type": "code",
   "execution_count": 25,
   "id": "6d38f2d6",
   "metadata": {
    "colab": {
     "base_uri": "https://localhost:8080/",
     "height": 178
    },
    "id": "aqNGW5AJQavH",
    "outputId": "c063e8a5-c176-4180-9579-4a961a154d4b"
   },
   "outputs": [
    {
     "data": {
      "text/plain": [
       "fraudulent\n",
       "0    17014\n",
       "1      866\n",
       "Name: job_id, dtype: int64"
      ]
     },
     "execution_count": 25,
     "metadata": {},
     "output_type": "execute_result"
    }
   ],
   "source": [
    "raw_data.groupby('fraudulent')['job_id'].count()"
   ]
  },
  {
   "cell_type": "markdown",
   "id": "1cde38f8",
   "metadata": {},
   "source": [
    "<h3>Class imbalane found for fraudulent class label</h3>"
   ]
  },
  {
   "cell_type": "code",
   "execution_count": 26,
   "id": "a635b035",
   "metadata": {
    "id": "SA36fCAo0f7z"
   },
   "outputs": [],
   "source": [
    "raw_data.drop(columns=['salary_range','department'],inplace=True)"
   ]
  },
  {
   "cell_type": "code",
   "execution_count": 27,
   "id": "336749f6",
   "metadata": {
    "colab": {
     "base_uri": "https://localhost:8080/"
    },
    "id": "i_TZdSqQBi0W",
    "outputId": "4903d98a-b2a8-4b9d-801a-bdfc1efa0471"
   },
   "outputs": [
    {
     "name": "stdout",
     "output_type": "stream",
     "text": [
      "<class 'pandas.core.frame.DataFrame'>\n",
      "RangeIndex: 17880 entries, 0 to 17879\n",
      "Data columns (total 16 columns):\n",
      " #   Column               Non-Null Count  Dtype \n",
      "---  ------               --------------  ----- \n",
      " 0   job_id               17880 non-null  int64 \n",
      " 1   title                17880 non-null  object\n",
      " 2   location             17534 non-null  object\n",
      " 3   company_profile      14572 non-null  object\n",
      " 4   description          17879 non-null  object\n",
      " 5   requirements         15184 non-null  object\n",
      " 6   benefits             10668 non-null  object\n",
      " 7   telecommuting        17880 non-null  int64 \n",
      " 8   has_company_logo     17880 non-null  int64 \n",
      " 9   has_questions        17880 non-null  int64 \n",
      " 10  employment_type      14409 non-null  object\n",
      " 11  required_experience  10830 non-null  object\n",
      " 12  required_education   9775 non-null   object\n",
      " 13  industry             12977 non-null  object\n",
      " 14  function             11425 non-null  object\n",
      " 15  fraudulent           17880 non-null  int64 \n",
      "dtypes: int64(5), object(11)\n",
      "memory usage: 2.2+ MB\n"
     ]
    }
   ],
   "source": [
    "raw_data.info()"
   ]
  },
  {
   "cell_type": "code",
   "execution_count": 28,
   "id": "8325b380",
   "metadata": {
    "id": "K-qmAKi9BpT1"
   },
   "outputs": [],
   "source": [
    "continuous_cols = [\n",
    "    'job_id',\n",
    "    'telecommuting',\n",
    "    'has_company_logo',\n",
    "    'has_questions',\n",
    "    'fraudulent'\n",
    "]\n",
    "categorical_cols = [\n",
    "    'title',\n",
    "    'location',\n",
    "    'department',\n",
    "    'company_profile',\n",
    "    'requirements',\n",
    "    'benefits',\n",
    "    'employment_type',\n",
    "    'required_experience',\n",
    "    'required_education',\n",
    "    'industry',\n",
    "    'function'\n",
    "]"
   ]
  },
  {
   "cell_type": "code",
   "execution_count": 29,
   "id": "47f953b5",
   "metadata": {
    "id": "sbvPG1xBC5Ih"
   },
   "outputs": [],
   "source": [
    "sub_categorical_cols = [\n",
    "    'location',\n",
    "    'employment_type',\n",
    "    'required_experience',\n",
    "    'required_education',\n",
    "    'industry',\n",
    "    'function'\n",
    "]\n",
    "raw_data[sub_categorical_cols] = raw_data[sub_categorical_cols].fillna('Unknown')"
   ]
  },
  {
   "cell_type": "markdown",
   "id": "87146968",
   "metadata": {},
   "source": [
    "<p>dropping null values of description because it contains only 1 null value for this field </p>"
   ]
  },
  {
   "cell_type": "code",
   "execution_count": 30,
   "id": "cb4671ae",
   "metadata": {
    "id": "g_bBigKXERsT"
   },
   "outputs": [],
   "source": [
    "raw_data.dropna(subset=['description'], inplace=True)"
   ]
  },
  {
   "cell_type": "code",
   "execution_count": 31,
   "id": "93492b45",
   "metadata": {
    "id": "XaAUJwXCEYG3"
   },
   "outputs": [],
   "source": [
    "text_cols = ['company_profile', 'requirements', 'benefits']\n",
    "raw_data[text_cols] = raw_data[text_cols].fillna('Unknown')"
   ]
  },
  {
   "cell_type": "code",
   "execution_count": 53,
   "id": "8e1ec391",
   "metadata": {
    "colab": {
     "base_uri": "https://localhost:8080/",
     "height": 586
    },
    "id": "6OeTd8JtEt2i",
    "outputId": "80e69e92-dc83-4dd6-a79b-f61110b9741f"
   },
   "outputs": [
    {
     "data": {
      "text/plain": [
       "job_id                 0\n",
       "title                  0\n",
       "location               0\n",
       "company_profile        0\n",
       "description            0\n",
       "requirements           0\n",
       "benefits               0\n",
       "telecommuting          0\n",
       "has_company_logo       0\n",
       "has_questions          0\n",
       "employment_type        0\n",
       "required_experience    0\n",
       "required_education     0\n",
       "industry               0\n",
       "function               0\n",
       "fraudulent             0\n",
       "dtype: int64"
      ]
     },
     "execution_count": 53,
     "metadata": {},
     "output_type": "execute_result"
    }
   ],
   "source": [
    "raw_data.isnull().sum()"
   ]
  },
  {
   "cell_type": "markdown",
   "id": "6ad6ba42",
   "metadata": {},
   "source": [
    "<h2>2. Preprocessing the dataset</h2>"
   ]
  },
  {
   "cell_type": "code",
   "execution_count": 37,
   "id": "75b102b6",
   "metadata": {},
   "outputs": [],
   "source": [
    "import regex as re\n",
    "import nltk\n",
    "from nltk.corpus import stopwords"
   ]
  },
  {
   "cell_type": "code",
   "execution_count": 38,
   "id": "9a366f0e",
   "metadata": {},
   "outputs": [
    {
     "name": "stderr",
     "output_type": "stream",
     "text": [
      "[nltk_data] Downloading package stopwords to /Users/nani/nltk_data...\n",
      "[nltk_data]   Unzipping corpora/stopwords.zip.\n"
     ]
    },
    {
     "data": {
      "text/plain": [
       "{'a',\n",
       " 'about',\n",
       " 'above',\n",
       " 'after',\n",
       " 'again',\n",
       " 'against',\n",
       " 'ain',\n",
       " 'all',\n",
       " 'am',\n",
       " 'an',\n",
       " 'and',\n",
       " 'any',\n",
       " 'are',\n",
       " 'aren',\n",
       " \"aren't\",\n",
       " 'as',\n",
       " 'at',\n",
       " 'be',\n",
       " 'because',\n",
       " 'been',\n",
       " 'before',\n",
       " 'being',\n",
       " 'below',\n",
       " 'between',\n",
       " 'both',\n",
       " 'but',\n",
       " 'by',\n",
       " 'can',\n",
       " 'couldn',\n",
       " \"couldn't\",\n",
       " 'd',\n",
       " 'did',\n",
       " 'didn',\n",
       " \"didn't\",\n",
       " 'do',\n",
       " 'does',\n",
       " 'doesn',\n",
       " \"doesn't\",\n",
       " 'doing',\n",
       " 'don',\n",
       " \"don't\",\n",
       " 'down',\n",
       " 'during',\n",
       " 'each',\n",
       " 'few',\n",
       " 'for',\n",
       " 'from',\n",
       " 'further',\n",
       " 'had',\n",
       " 'hadn',\n",
       " \"hadn't\",\n",
       " 'has',\n",
       " 'hasn',\n",
       " \"hasn't\",\n",
       " 'have',\n",
       " 'haven',\n",
       " \"haven't\",\n",
       " 'having',\n",
       " 'he',\n",
       " \"he'd\",\n",
       " \"he'll\",\n",
       " \"he's\",\n",
       " 'her',\n",
       " 'here',\n",
       " 'hers',\n",
       " 'herself',\n",
       " 'him',\n",
       " 'himself',\n",
       " 'his',\n",
       " 'how',\n",
       " 'i',\n",
       " \"i'd\",\n",
       " \"i'll\",\n",
       " \"i'm\",\n",
       " \"i've\",\n",
       " 'if',\n",
       " 'in',\n",
       " 'into',\n",
       " 'is',\n",
       " 'isn',\n",
       " \"isn't\",\n",
       " 'it',\n",
       " \"it'd\",\n",
       " \"it'll\",\n",
       " \"it's\",\n",
       " 'its',\n",
       " 'itself',\n",
       " 'just',\n",
       " 'll',\n",
       " 'm',\n",
       " 'ma',\n",
       " 'me',\n",
       " 'mightn',\n",
       " \"mightn't\",\n",
       " 'more',\n",
       " 'most',\n",
       " 'mustn',\n",
       " \"mustn't\",\n",
       " 'my',\n",
       " 'myself',\n",
       " 'needn',\n",
       " \"needn't\",\n",
       " 'no',\n",
       " 'nor',\n",
       " 'not',\n",
       " 'now',\n",
       " 'o',\n",
       " 'of',\n",
       " 'off',\n",
       " 'on',\n",
       " 'once',\n",
       " 'only',\n",
       " 'or',\n",
       " 'other',\n",
       " 'our',\n",
       " 'ours',\n",
       " 'ourselves',\n",
       " 'out',\n",
       " 'over',\n",
       " 'own',\n",
       " 're',\n",
       " 's',\n",
       " 'same',\n",
       " 'shan',\n",
       " \"shan't\",\n",
       " 'she',\n",
       " \"she'd\",\n",
       " \"she'll\",\n",
       " \"she's\",\n",
       " 'should',\n",
       " \"should've\",\n",
       " 'shouldn',\n",
       " \"shouldn't\",\n",
       " 'so',\n",
       " 'some',\n",
       " 'such',\n",
       " 't',\n",
       " 'than',\n",
       " 'that',\n",
       " \"that'll\",\n",
       " 'the',\n",
       " 'their',\n",
       " 'theirs',\n",
       " 'them',\n",
       " 'themselves',\n",
       " 'then',\n",
       " 'there',\n",
       " 'these',\n",
       " 'they',\n",
       " \"they'd\",\n",
       " \"they'll\",\n",
       " \"they're\",\n",
       " \"they've\",\n",
       " 'this',\n",
       " 'those',\n",
       " 'through',\n",
       " 'to',\n",
       " 'too',\n",
       " 'under',\n",
       " 'until',\n",
       " 'up',\n",
       " 've',\n",
       " 'very',\n",
       " 'was',\n",
       " 'wasn',\n",
       " \"wasn't\",\n",
       " 'we',\n",
       " \"we'd\",\n",
       " \"we'll\",\n",
       " \"we're\",\n",
       " \"we've\",\n",
       " 'were',\n",
       " 'weren',\n",
       " \"weren't\",\n",
       " 'what',\n",
       " 'when',\n",
       " 'where',\n",
       " 'which',\n",
       " 'while',\n",
       " 'who',\n",
       " 'whom',\n",
       " 'why',\n",
       " 'will',\n",
       " 'with',\n",
       " 'won',\n",
       " \"won't\",\n",
       " 'wouldn',\n",
       " \"wouldn't\",\n",
       " 'y',\n",
       " 'you',\n",
       " \"you'd\",\n",
       " \"you'll\",\n",
       " \"you're\",\n",
       " \"you've\",\n",
       " 'your',\n",
       " 'yours',\n",
       " 'yourself',\n",
       " 'yourselves'}"
      ]
     },
     "execution_count": 38,
     "metadata": {},
     "output_type": "execute_result"
    }
   ],
   "source": [
    "nltk.download('stopwords')\n",
    "stopwords_set = set(stopwords.words('english'))\n",
    "stopwords_set"
   ]
  },
  {
   "cell_type": "code",
   "execution_count": 39,
   "id": "8b61aea3",
   "metadata": {},
   "outputs": [],
   "source": [
    "def preprocess(text):\n",
    "  if isinstance(text,str):\n",
    "    text = re.sub(r'<.*?>', '',text)\n",
    "    text = re.sub(r'[^a-zA-Z\\s]', '',text)\n",
    "    text = text.lower()\n",
    "    words = text.split()\n",
    "    words = [word for word in words if word not in stopwords_set]\n",
    "    return ' '.join(words)\n",
    "  return text"
   ]
  },
  {
   "cell_type": "code",
   "execution_count": 40,
   "id": "88220604",
   "metadata": {},
   "outputs": [],
   "source": [
    "text_cols.extend(['title','description'])"
   ]
  },
  {
   "cell_type": "code",
   "execution_count": 46,
   "id": "e7e5ae23",
   "metadata": {},
   "outputs": [
    {
     "data": {
      "text/plain": [
       "0        Food52, a fast-growing, James Beard Award-winn...\n",
       "1        Organised - Focused - Vibrant - Awesome!Do you...\n",
       "2        Our client, located in Houston, is actively se...\n",
       "3        THE COMPANY: ESRI – Environmental Systems Rese...\n",
       "4        JOB TITLE: Itemization Review ManagerLOCATION:...\n",
       "                               ...                        \n",
       "17875    Just in case this is the first time you’ve vis...\n",
       "17876    The Payroll Accountant will focus primarily on...\n",
       "17877    Experienced Project Cost Control Staff Enginee...\n",
       "17878    Nemsia Studios is looking for an experienced v...\n",
       "17879    Who are we?Vend is an award winning web based ...\n",
       "Name: description, Length: 17879, dtype: object"
      ]
     },
     "execution_count": 46,
     "metadata": {},
     "output_type": "execute_result"
    }
   ],
   "source": [
    "raw_data['description']"
   ]
  },
  {
   "cell_type": "code",
   "execution_count": 47,
   "id": "387fa292",
   "metadata": {},
   "outputs": [],
   "source": [
    "raw_data[text_cols] = raw_data[text_cols].map(preprocess)"
   ]
  },
  {
   "cell_type": "code",
   "execution_count": 48,
   "id": "bcf42320",
   "metadata": {},
   "outputs": [
    {
     "data": {
      "text/plain": [
       "0        food fastgrowing james beard awardwinning onli...\n",
       "1        organised focused vibrant awesomedo passion cu...\n",
       "2        client located houston actively seeking experi...\n",
       "3        company esri environmental systems research in...\n",
       "4        job title itemization review managerlocation f...\n",
       "                               ...                        \n",
       "17875    case first time youve visited website vend awa...\n",
       "17876    payroll accountant focus primarily payroll fun...\n",
       "17877    experienced project cost control staff enginee...\n",
       "17878    nemsia studios looking experienced visualgraph...\n",
       "17879    wevend award winning web based point sale soft...\n",
       "Name: description, Length: 17879, dtype: object"
      ]
     },
     "execution_count": 48,
     "metadata": {},
     "output_type": "execute_result"
    }
   ],
   "source": [
    "raw_data['description']"
   ]
  },
  {
   "cell_type": "code",
   "execution_count": 49,
   "id": "1bad03ee",
   "metadata": {},
   "outputs": [
    {
     "name": "stdout",
     "output_type": "stream",
     "text": [
      "Empty strings in each text column:\n",
      " company_profile     0\n",
      "requirements        8\n",
      "benefits           29\n",
      "title               0\n",
      "description         1\n",
      "dtype: int64\n"
     ]
    }
   ],
   "source": [
    "empty_strings = (raw_data[text_cols] == '').sum()\n",
    "print(\"Empty strings in each text column:\\n\", empty_strings)"
   ]
  },
  {
   "cell_type": "code",
   "execution_count": 50,
   "id": "5f918139",
   "metadata": {},
   "outputs": [
    {
     "name": "stdout",
     "output_type": "stream",
     "text": [
      "Length of text in each column after preprocessing:\n",
      "        company_profile  requirements  benefits  title  description\n",
      "0                  642           671         7     16          706\n",
      "1                  884          1076       786     39         1543\n",
      "2                  614          1103         7     37          274\n",
      "3                  478          1209       687     31         2094\n",
      "4                 1331           648        21     19         1226\n",
      "...                ...           ...       ...    ...          ...\n",
      "17875             1229           990       509     29         1020\n",
      "17876             1624           530       465     18         1004\n",
      "17877              182           879         7     55         1083\n",
      "17878                7           362       157     16          356\n",
      "17879             1229           698         7     26         1279\n",
      "\n",
      "[17879 rows x 5 columns]\n"
     ]
    }
   ],
   "source": [
    "text_lengths = raw_data[text_cols].map(len)\n",
    "print(\"Length of text in each column after preprocessing:\\n\", text_lengths)"
   ]
  },
  {
   "cell_type": "code",
   "execution_count": 51,
   "id": "17eca07c",
   "metadata": {},
   "outputs": [
    {
     "name": "stdout",
     "output_type": "stream",
     "text": [
      "Empty strings after fixing:\n",
      " company_profile    0\n",
      "requirements       0\n",
      "benefits           0\n",
      "title              0\n",
      "description        0\n",
      "dtype: int64\n"
     ]
    },
    {
     "name": "stderr",
     "output_type": "stream",
     "text": [
      "/var/folders/lv/sr5x5pq929580w8l2djmnf_00000gn/T/ipykernel_55741/2361363836.py:2: FutureWarning: A value is trying to be set on a copy of a DataFrame or Series through chained assignment using an inplace method.\n",
      "The behavior will change in pandas 3.0. This inplace method will never work because the intermediate object on which we are setting values always behaves as a copy.\n",
      "\n",
      "For example, when doing 'df[col].method(value, inplace=True)', try using 'df.method({col: value}, inplace=True)' or df[col] = df[col].method(value) instead, to perform the operation inplace on the original object.\n",
      "\n",
      "\n",
      "  raw_data['requirements'].replace('', 'Unknown', inplace=True)\n",
      "/var/folders/lv/sr5x5pq929580w8l2djmnf_00000gn/T/ipykernel_55741/2361363836.py:3: FutureWarning: A value is trying to be set on a copy of a DataFrame or Series through chained assignment using an inplace method.\n",
      "The behavior will change in pandas 3.0. This inplace method will never work because the intermediate object on which we are setting values always behaves as a copy.\n",
      "\n",
      "For example, when doing 'df[col].method(value, inplace=True)', try using 'df.method({col: value}, inplace=True)' or df[col] = df[col].method(value) instead, to perform the operation inplace on the original object.\n",
      "\n",
      "\n",
      "  raw_data['benefits'].replace('', 'Unknown', inplace=True)\n"
     ]
    }
   ],
   "source": [
    "raw_data = raw_data[raw_data['description'] != '']\n",
    "raw_data['requirements'].replace('', 'Unknown', inplace=True)\n",
    "raw_data['benefits'].replace('', 'Unknown', inplace=True)\n",
    "empty_strings = (raw_data[text_cols] == '').sum()\n",
    "print(\"Empty strings after fixing:\\n\", empty_strings)"
   ]
  },
  {
   "cell_type": "code",
   "execution_count": 54,
   "id": "4b54dac4",
   "metadata": {},
   "outputs": [],
   "source": [
    "raw_data.to_csv('Data/cleaned_fake_job_postings.csv', index=False)"
   ]
  },
  {
   "cell_type": "code",
   "execution_count": null,
   "id": "dd92b20a",
   "metadata": {},
   "outputs": [],
   "source": []
  }
 ],
 "metadata": {
  "kernelspec": {
   "display_name": "Python 3",
   "language": "python",
   "name": "python3"
  },
  "language_info": {
   "codemirror_mode": {
    "name": "ipython",
    "version": 3
   },
   "file_extension": ".py",
   "mimetype": "text/x-python",
   "name": "python",
   "nbconvert_exporter": "python",
   "pygments_lexer": "ipython3",
   "version": "3.9.6"
  }
 },
 "nbformat": 4,
 "nbformat_minor": 5
}
